{
 "cells": [
  {
   "cell_type": "code",
   "execution_count": 1,
   "metadata": {},
   "outputs": [],
   "source": [
    "import pandas as pd\n",
    "import numpy as np\n",
    "\n",
    "from scipy import sparse\n",
    "from scipy.sparse import csr_matrix\n",
    "from scipy.sparse import coo_matrix, hstack, vstack\n",
    "\n",
    "from sklearn.preprocessing import OneHotEncoder \n",
    "from sklearn.utils import shuffle\n",
    "\n",
    "import random"
   ]
  },
  {
   "cell_type": "code",
   "execution_count": 2,
   "metadata": {},
   "outputs": [
    {
     "name": "stderr",
     "output_type": "stream",
     "text": [
      "c:\\users\\бгатов михаил\\appdata\\local\\programs\\python\\python36\\lib\\site-packages\\numpy\\lib\\arraysetops.py:568: FutureWarning: elementwise comparison failed; returning scalar instead, but in the future will perform elementwise comparison\n",
      "  mask |= (ar1 == a)\n"
     ]
    },
    {
     "name": "stdout",
     "output_type": "stream",
     "text": [
      "Сработало\n"
     ]
    }
   ],
   "source": [
    "#загружаем данные\n",
    "#Делаем one-hot encoding для пользователей и фильмов\n",
    "#Перекладываем в ndarray потому что pandas ооооочень медленный и плохо работает с большим объемом данных\n",
    "data=pd.read_csv(\"NetflixProcessedDataFile.csv\",index_col=0).drop_duplicates()\n",
    "encoder = OneHotEncoder(categories='auto') \n",
    "user_data = encoder.fit_transform(np.asarray(data['User_Id']).reshape(-1,1)) \n",
    "movie_data = encoder.fit_transform(np.asarray(data['Movie_Id']).reshape(-1,1))\n",
    "ratings_data = np.asarray(data['Rating']).reshape(-1,1)\n",
    "data = data.iloc[0:0] #выгружаем датафрейм, а то получим memory error\n",
    "print(\"Сработало\")"
   ]
  },
  {
   "cell_type": "code",
   "execution_count": 3,
   "metadata": {},
   "outputs": [
    {
     "name": "stdout",
     "output_type": "stream",
     "text": [
      "Сработало\n"
     ]
    }
   ],
   "source": [
    "x_data = hstack([user_data, movie_data])\n",
    "user_data = [] # данные обработали - сразу удалили\n",
    "movie_data = []\n",
    "x_data, ratings_data = shuffle(x_data, ratings_data)\n",
    "print(\"Сработало\")"
   ]
  },
  {
   "cell_type": "code",
   "execution_count": 4,
   "metadata": {},
   "outputs": [],
   "source": [
    "#Разные нужные функции\n",
    "def RMSE(predictions, data):\n",
    "    mse=np.sum((data - predictions) ** 2)/len(predictions)\n",
    "    return np.sqrt(mse)\n",
    "\n",
    "def prediction(x_data, w, w0, V):\n",
    "    p_1 = x_data.dot(V)\n",
    "    V_part = (p_1 ** 2) - x_data.power(2).dot((V) ** 2) \n",
    "    p_1 = []\n",
    "    p_2 = (0.5 * np.sum(V_part,axis=1)).reshape(-1,1)\n",
    "    p_1 = x_data.dot(w)\n",
    "    p_1 = w0 + p_1\n",
    "    return p_1 + p_2"
   ]
  },
  {
   "cell_type": "code",
   "execution_count": 5,
   "metadata": {},
   "outputs": [],
   "source": [
    "#Основная функция для тренировки\n",
    "def factorization_machine(x_data, y_data, k, learning_rate, epochs, batch_size):\n",
    "    w = np.full((x_data.shape[1], 1), 0.5) #линейная часть\n",
    "    w0 = 0.5 #свободный член\n",
    "    V = np.full((x_data.shape[1], k), 0.5)\n",
    "    \n",
    "    for i in range(0, epochs):\n",
    "        print(\"Эпоха #\" + str(i + 1))\n",
    "        x_data, y_data = shuffle(x_data, y_data)\n",
    "        number_of_batches = x_data.shape[0] // batch_size\n",
    "        epoch_rmse = []\n",
    "        \n",
    "        for j in range(number_of_batches + 1):\n",
    "            x_temp = x_data.tocsr()[i * batch_size : (i + 1) * batch_size, :]  # выделяем батч\n",
    "            y_temp = y_data[i * batch_size : (i + 1) * batch_size,:]\n",
    "            \n",
    "            n = x_temp.shape[0]\n",
    "\n",
    "            predictions = prediction(x_temp, w, w0, V)\n",
    "            if j>0:\n",
    "                epoch_rmse.append(RMSE(predictions, y_temp))\n",
    "            error = y_temp - predictions\n",
    "            w = w + learning_rate * 2 * ((x_temp.T).dot(error))/n\n",
    "            w0 = w0 + learning_rate * 2 * np.sum(error)/n                  # тут идет поправка параметров машины\n",
    "            V = V + learning_rate * 2 * ((x_temp.T.dot(np.multiply(error, x_temp.dot(V)))) - \n",
    "                                         np.multiply(V, (x_temp.T).power(2).dot(error)))/n  \n",
    "            if j == number_of_batches:\n",
    "                predictions = prediction(x_temp, w, w0, V)\n",
    "                epoch_rmse.append(RMSE(predictions, y_temp))     \n",
    "                \n",
    "        print(\"Среднее RMSE по эпохе \" + str(i+1) + \" = \" + str(np.mean(epoch_rmse)))\n",
    "\n",
    "    return w, w0, V\n",
    "    "
   ]
  },
  {
   "cell_type": "code",
   "execution_count": 6,
   "metadata": {},
   "outputs": [
    {
     "name": "stdout",
     "output_type": "stream",
     "text": [
      "Сработало\n"
     ]
    }
   ],
   "source": [
    "#начальные данные\n",
    "\n",
    "RMSE_test = []\n",
    "\n",
    "number_of_folds = 5\n",
    "fold_size = x_data.shape[0] // number_of_folds\n",
    "batch_size = 100000\n",
    "learning_rate = 0.01\n",
    "epochs = 3\n",
    "k = 3\n",
    "\n",
    "print(\"Сработало\")"
   ]
  },
  {
   "cell_type": "code",
   "execution_count": 7,
   "metadata": {},
   "outputs": [
    {
     "name": "stdout",
     "output_type": "stream",
     "text": [
      "Фолд #1\n",
      "Эпоха #1\n",
      "Среднее RMSE по эпохе 1 = 1.1034176728097922\n",
      "Эпоха #2\n",
      "Среднее RMSE по эпохе 2 = 1.0759578803584562\n",
      "Эпоха #3\n",
      "Среднее RMSE по эпохе 3 = 1.0783802759178482\n",
      "RMSE на фолде 1 = 1.079451763583885\n",
      "Фолд #2\n",
      "Эпоха #1\n",
      "Среднее RMSE по эпохе 1 = 1.1034932768317993\n",
      "Эпоха #2\n",
      "Среднее RMSE по эпохе 2 = 1.082082364940138\n",
      "Эпоха #3\n",
      "Среднее RMSE по эпохе 3 = 1.0796205135503227\n",
      "RMSE на фолде 2 = 1.0794298594128884\n",
      "Фолд #3\n",
      "Эпоха #1\n",
      "Среднее RMSE по эпохе 1 = 1.1084145943461379\n",
      "Эпоха #2\n",
      "Среднее RMSE по эпохе 2 = 1.0821554326241298\n",
      "Эпоха #3\n",
      "Среднее RMSE по эпохе 3 = 1.0825150235894778\n",
      "RMSE на фолде 3 = 1.079303157938465\n",
      "Фолд #4\n",
      "Эпоха #1\n",
      "Среднее RMSE по эпохе 1 = 1.110068174031011\n",
      "Эпоха #2\n",
      "Среднее RMSE по эпохе 2 = 1.0852226854701084\n",
      "Эпоха #3\n",
      "Среднее RMSE по эпохе 3 = 1.0826362547939798\n",
      "RMSE на фолде 4 = 1.0795428112417762\n",
      "Фолд #5\n",
      "Эпоха #1\n",
      "Среднее RMSE по эпохе 1 = 1.1093691235113663\n",
      "Эпоха #2\n",
      "Среднее RMSE по эпохе 2 = 1.081921168894928\n",
      "Эпоха #3\n",
      "Среднее RMSE по эпохе 3 = 1.0855406207017604\n",
      "RMSE на фолде 5 = 1.0793171719891643\n"
     ]
    }
   ],
   "source": [
    "for i in range(0, number_of_folds):\n",
    "    print(\"Фолд #\" + str(i + 1))\n",
    "    x_test = x_data.tocsr()[i * fold_size : (i+1) * fold_size, : ]  # выделяем фолды\n",
    "    y_test = ratings_data[i * fold_size : (i+1) * fold_size]\n",
    "    x_train = vstack([x_data.tocsr()[0 : i * fold_size, : ], x_data.tocsr()[(i+1) * fold_size : x_data.shape[0], : ]], 'csr') \n",
    "    y_train = np.vstack((ratings_data[0 : i * fold_size], ratings_data[(i+1) * fold_size : ratings_data.shape[0]]))\n",
    "\n",
    "    w_temp, w0_temp, V_temp = factorization_machine(x_train, y_train, k, learning_rate, epochs, batch_size)\n",
    "    \n",
    "    x_train = []\n",
    "    y_train = []\n",
    "    predictions = prediction(x_test, w_temp, w0_temp, V_temp)\n",
    "    RMSE_test.insert(i, RMSE(predictions, y_test))\n",
    "    \n",
    "    print(\"RMSE на фолде \" + str(i + 1) + \" = \" + str(RMSE_test[i]))"
   ]
  },
  {
   "cell_type": "code",
   "execution_count": 8,
   "metadata": {},
   "outputs": [
    {
     "data": {
      "text/html": [
       "<div>\n",
       "<style scoped>\n",
       "    .dataframe tbody tr th:only-of-type {\n",
       "        vertical-align: middle;\n",
       "    }\n",
       "\n",
       "    .dataframe tbody tr th {\n",
       "        vertical-align: top;\n",
       "    }\n",
       "\n",
       "    .dataframe thead th {\n",
       "        text-align: right;\n",
       "    }\n",
       "</style>\n",
       "<table border=\"1\" class=\"dataframe\">\n",
       "  <thead>\n",
       "    <tr style=\"text-align: right;\">\n",
       "      <th></th>\n",
       "      <th>Fold #1</th>\n",
       "      <th>Fold #2</th>\n",
       "      <th>Fold #3</th>\n",
       "      <th>Fold #4</th>\n",
       "      <th>Fold #5</th>\n",
       "      <th>Mean</th>\n",
       "      <th>STD</th>\n",
       "    </tr>\n",
       "  </thead>\n",
       "  <tbody>\n",
       "    <tr>\n",
       "      <td>RMSE test</td>\n",
       "      <td>1.079452</td>\n",
       "      <td>1.07943</td>\n",
       "      <td>1.079303</td>\n",
       "      <td>1.079543</td>\n",
       "      <td>1.079317</td>\n",
       "      <td>1.079409</td>\n",
       "      <td>0.000089</td>\n",
       "    </tr>\n",
       "  </tbody>\n",
       "</table>\n",
       "</div>"
      ],
      "text/plain": [
       "            Fold #1  Fold #2   Fold #3   Fold #4   Fold #5      Mean       STD\n",
       "RMSE test  1.079452  1.07943  1.079303  1.079543  1.079317  1.079409  0.000089"
      ]
     },
     "execution_count": 8,
     "metadata": {},
     "output_type": "execute_result"
    }
   ],
   "source": [
    "table = {'Fold #1':[RMSE_test[0]], \n",
    "        'Fold #2':[RMSE_test[1]],\n",
    "        'Fold #3':[RMSE_test[2]],\n",
    "        'Fold #4':[RMSE_test[3]],\n",
    "        'Fold #5':[RMSE_test[4]],\n",
    "        'Mean':[np.mean(RMSE_test)],\n",
    "        'STD':[np.std(RMSE_test)]} \n",
    " \n",
    "# делаем табличку \n",
    "df_res = pd.DataFrame(table, index =['RMSE test']) \n",
    "\n",
    "df_res"
   ]
  },
  {
   "cell_type": "code",
   "execution_count": null,
   "metadata": {},
   "outputs": [],
   "source": []
  }
 ],
 "metadata": {
  "kernelspec": {
   "display_name": "Python 3",
   "language": "python",
   "name": "python3"
  },
  "language_info": {
   "codemirror_mode": {
    "name": "ipython",
    "version": 3
   },
   "file_extension": ".py",
   "mimetype": "text/x-python",
   "name": "python",
   "nbconvert_exporter": "python",
   "pygments_lexer": "ipython3",
   "version": "3.6.4"
  }
 },
 "nbformat": 4,
 "nbformat_minor": 4
}
